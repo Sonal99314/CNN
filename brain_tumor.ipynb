{
  "nbformat": 4,
  "nbformat_minor": 0,
  "metadata": {
    "colab": {
      "name": "brain_tumor.ipynb",
      "provenance": []
    },
    "kernelspec": {
      "name": "python3",
      "display_name": "Python 3"
    },
    "language_info": {
      "name": "python"
    },
    "accelerator": "GPU"
  },
  "cells": [
    {
      "cell_type": "code",
      "metadata": {
        "colab": {
          "base_uri": "https://localhost:8080/"
        },
        "id": "LFWC7oAjdPm0",
        "outputId": "8c46ee2d-54f6-4dc0-dfe3-e1e592dc2f1f"
      },
      "source": [
        "import os\n",
        "os.environ['KAGGLE_USERNAME']=\"sonalsingh99314\"\n",
        "os.environ['KAGGLE_KEY']=\"877d1a361a530435bdc152876b122fe1\"\n",
        "!kaggle datasets download -d navoneel/brain-mri-images-for-brain-tumor-detection\n"
      ],
      "execution_count": null,
      "outputs": [
        {
          "output_type": "stream",
          "text": [
            "Downloading brain-mri-images-for-brain-tumor-detection.zip to /content\n",
            "\r  0% 0.00/15.1M [00:00<?, ?B/s]\r 40% 6.00M/15.1M [00:00<00:00, 62.7MB/s]\n",
            "\r100% 15.1M/15.1M [00:00<00:00, 73.9MB/s]\n"
          ],
          "name": "stdout"
        }
      ]
    },
    {
      "cell_type": "code",
      "metadata": {
        "colab": {
          "base_uri": "https://localhost:8080/"
        },
        "id": "8gSoG_2jNCPd",
        "outputId": "2c61db6e-45b6-48db-e06d-9224b895bdae"
      },
      "source": [
        "from zipfile import ZipFile\n",
        "file_name=\"/content/brain-mri-images-for-brain-tumor-detection.zip\"\n",
        "with ZipFile(file_name,'r') as zip:\n",
        "  zip.extractall()\n",
        "  print('done')"
      ],
      "execution_count": 2,
      "outputs": [
        {
          "output_type": "stream",
          "text": [
            "done\n"
          ],
          "name": "stdout"
        }
      ]
    },
    {
      "cell_type": "code",
      "metadata": {
        "id": "q9qimbt7ODGa"
      },
      "source": [
        "import keras\n",
        "from keras.models import Sequential\n",
        "from keras.layers import Conv2D,MaxPooling2D,Flatten,Dense,Dropout,BatchNormalization\n",
        "from  PIL import Image\n",
        "import numpy as np\n",
        "import pandas as pd\n",
        "from sklearn.model_selection import train_test_split\n",
        "from sklearn.preprocessing import OneHotEncoder"
      ],
      "execution_count": 26,
      "outputs": []
    },
    {
      "cell_type": "code",
      "metadata": {
        "colab": {
          "base_uri": "https://localhost:8080/"
        },
        "id": "eS7AtgacO31P",
        "outputId": "7d9795fb-6e17-44c9-cafa-54c446bbe111"
      },
      "source": [
        "encoder=OneHotEncoder()\n",
        "encoder.fit([[0],[1]])    # 0:tumour  # 1: normal"
      ],
      "execution_count": 27,
      "outputs": [
        {
          "output_type": "execute_result",
          "data": {
            "text/plain": [
              "OneHotEncoder(categories='auto', drop=None, dtype=<class 'numpy.float64'>,\n",
              "              handle_unknown='error', sparse=True)"
            ]
          },
          "metadata": {},
          "execution_count": 27
        }
      ]
    },
    {
      "cell_type": "code",
      "metadata": {
        "id": "Gkau5sgZO4Fp"
      },
      "source": [
        "#this cell updates result list for images with tumour\n",
        "\n",
        "data=[]    # to stores the images in numpy form\n",
        "paths=[]    #path of every images\n",
        "result=[]   #to store  result in 0 and 1 form\n",
        "\n",
        "for r,d,f in os.walk(r'/content/yes'):\n",
        "  for file in f:\n",
        "    if '.jpg' in file:\n",
        "        paths.append(os.path.join(r,file))   #storing the path of every images of yes folder \n",
        "\n",
        "for path in paths:   \n",
        "  img=Image.open(path)\n",
        "  img=img.resize((128,128))\n",
        "  img=np.array(img)    \n",
        "  if (img.shape==(128,128,3)):\n",
        "    data.append(np.array(img))    # in data , numpy form of images is stored \n",
        "    result.append(encoder.transform([[0]]).toarray())   #"
      ],
      "execution_count": 28,
      "outputs": []
    },
    {
      "cell_type": "code",
      "metadata": {
        "id": "DljDVECmRYS3"
      },
      "source": [
        "#this cell updates result list for images without tumour\n",
        "\n",
        "paths=[]    #path of every images\n",
        "\n",
        "\n",
        "for r,d,f in os.walk(r'/content/no'):\n",
        "  for file in f:\n",
        "    if '.jpg' in file:\n",
        "        paths.append(os.path.join(r,file))   #storing the path of every images of no folder \n",
        "\n",
        "for path in paths:   \n",
        "  img=Image.open(path)\n",
        "  img=img.resize((128,128))\n",
        "  img=np.array(img)    \n",
        "  if (img.shape==(128,128,3)):\n",
        "    data.append(np.array(img))    # in data , numpy form of images is stored \n",
        "    result.append(encoder.transform([[1]]).toarray())  "
      ],
      "execution_count": 29,
      "outputs": []
    },
    {
      "cell_type": "code",
      "metadata": {
        "colab": {
          "base_uri": "https://localhost:8080/"
        },
        "id": "Ptpmi-OLSJFn",
        "outputId": "761f4390-bf0f-4b00-966e-f9c31d8eed9c"
      },
      "source": [
        "data=np.array(data)   \n",
        "data.shape"
      ],
      "execution_count": 30,
      "outputs": [
        {
          "output_type": "execute_result",
          "data": {
            "text/plain": [
              "(139, 128, 128, 3)"
            ]
          },
          "metadata": {},
          "execution_count": 30
        }
      ]
    },
    {
      "cell_type": "code",
      "metadata": {
        "id": "qqSmzz5tSUlF"
      },
      "source": [
        "result=np.array(result)\n",
        "result=result.reshape(139,2)"
      ],
      "execution_count": 31,
      "outputs": []
    },
    {
      "cell_type": "code",
      "metadata": {
        "id": "R1buPWAjTX97"
      },
      "source": [
        "##splitting the data in train and test\n",
        "x_train,x_test,y_train,y_test=train_test_split(data,result,test_size=0.2,shuffle=True,random_state=0)"
      ],
      "execution_count": 32,
      "outputs": []
    },
    {
      "cell_type": "code",
      "metadata": {
        "colab": {
          "base_uri": "https://localhost:8080/"
        },
        "id": "UiWqRrBBTuvp",
        "outputId": "5f04c4bc-b525-47c1-c004-ff9568656c44"
      },
      "source": [
        "##model build\n",
        "model=Sequential()\n",
        "model.add(Conv2D(32,kernel_size=(2,2),input_shape=(128,128,3),padding='same'))\n",
        "model.add(Conv2D(32,kernel_size=(2,2),activation='relu',padding='same'))\n",
        "\n",
        "model.add(BatchNormalization())\n",
        "model.add(MaxPooling2D(pool_size=(2,2)))\n",
        "model.add(Dropout(0.25))\n",
        "\n",
        "model.add(Conv2D(64,kernel_size=(2,2),activation='relu',padding='same'))\n",
        "model.add(Conv2D(64,kernel_size=(2,2),activation='relu',padding='same'))\n",
        "\n",
        "model.add(BatchNormalization())\n",
        "model.add(MaxPooling2D(pool_size=(2,2)))\n",
        "model.add(Dropout(0.25))\n",
        "\n",
        "model.add(Flatten())\n",
        "model.add(Dense(512,activation='relu'))\n",
        "model.add(Dropout(0.5))\n",
        "model.add(Dense(2,activation='softmax'))\n",
        "\n",
        "model.compile(loss='categorical_crossentropy',optimizer='Adamax')\n",
        "print(model.summary())\n",
        "\n"
      ],
      "execution_count": 33,
      "outputs": [
        {
          "output_type": "stream",
          "text": [
            "Model: \"sequential_2\"\n",
            "_________________________________________________________________\n",
            "Layer (type)                 Output Shape              Param #   \n",
            "=================================================================\n",
            "conv2d_8 (Conv2D)            (None, 128, 128, 32)      416       \n",
            "_________________________________________________________________\n",
            "conv2d_9 (Conv2D)            (None, 128, 128, 32)      4128      \n",
            "_________________________________________________________________\n",
            "batch_normalization_4 (Batch (None, 128, 128, 32)      128       \n",
            "_________________________________________________________________\n",
            "max_pooling2d_4 (MaxPooling2 (None, 64, 64, 32)        0         \n",
            "_________________________________________________________________\n",
            "dropout_6 (Dropout)          (None, 64, 64, 32)        0         \n",
            "_________________________________________________________________\n",
            "conv2d_10 (Conv2D)           (None, 64, 64, 64)        8256      \n",
            "_________________________________________________________________\n",
            "conv2d_11 (Conv2D)           (None, 64, 64, 64)        16448     \n",
            "_________________________________________________________________\n",
            "batch_normalization_5 (Batch (None, 64, 64, 64)        256       \n",
            "_________________________________________________________________\n",
            "max_pooling2d_5 (MaxPooling2 (None, 32, 32, 64)        0         \n",
            "_________________________________________________________________\n",
            "dropout_7 (Dropout)          (None, 32, 32, 64)        0         \n",
            "_________________________________________________________________\n",
            "flatten_2 (Flatten)          (None, 65536)             0         \n",
            "_________________________________________________________________\n",
            "dense_4 (Dense)              (None, 512)               33554944  \n",
            "_________________________________________________________________\n",
            "dropout_8 (Dropout)          (None, 512)               0         \n",
            "_________________________________________________________________\n",
            "dense_5 (Dense)              (None, 2)                 1026      \n",
            "=================================================================\n",
            "Total params: 33,585,602\n",
            "Trainable params: 33,585,410\n",
            "Non-trainable params: 192\n",
            "_________________________________________________________________\n",
            "None\n"
          ],
          "name": "stdout"
        }
      ]
    },
    {
      "cell_type": "code",
      "metadata": {
        "colab": {
          "base_uri": "https://localhost:8080/"
        },
        "id": "m0hRcEr_WHN-",
        "outputId": "eab5dfa3-64d7-4203-f011-271ccd1f03d8"
      },
      "source": [
        "y_train.shape"
      ],
      "execution_count": 34,
      "outputs": [
        {
          "output_type": "execute_result",
          "data": {
            "text/plain": [
              "(111, 2)"
            ]
          },
          "metadata": {},
          "execution_count": 34
        }
      ]
    },
    {
      "cell_type": "code",
      "metadata": {
        "colab": {
          "base_uri": "https://localhost:8080/"
        },
        "id": "hsdZ7vdpWPTy",
        "outputId": "09681239-e595-4906-99e0-365892fe57a9"
      },
      "source": [
        "history=model.fit(x_train,y_train,epochs=30,batch_size=40,verbose=1,validation_data=(x_test,y_test))"
      ],
      "execution_count": 35,
      "outputs": [
        {
          "output_type": "stream",
          "text": [
            "Epoch 1/30\n",
            "3/3 [==============================] - 2s 277ms/step - loss: 17.6809 - val_loss: 31.0418\n",
            "Epoch 2/30\n",
            "3/3 [==============================] - 0s 140ms/step - loss: 5.2953 - val_loss: 48.9114\n",
            "Epoch 3/30\n",
            "3/3 [==============================] - 0s 137ms/step - loss: 10.4208 - val_loss: 17.8775\n",
            "Epoch 4/30\n",
            "3/3 [==============================] - 0s 137ms/step - loss: 4.2056 - val_loss: 12.6449\n",
            "Epoch 5/30\n",
            "3/3 [==============================] - 0s 138ms/step - loss: 1.6542 - val_loss: 15.1161\n",
            "Epoch 6/30\n",
            "3/3 [==============================] - 0s 138ms/step - loss: 0.5388 - val_loss: 13.1434\n",
            "Epoch 7/30\n",
            "3/3 [==============================] - 0s 138ms/step - loss: 1.0852 - val_loss: 14.3417\n",
            "Epoch 8/30\n",
            "3/3 [==============================] - 0s 140ms/step - loss: 0.8916 - val_loss: 16.8091\n",
            "Epoch 9/30\n",
            "3/3 [==============================] - 0s 139ms/step - loss: 0.6011 - val_loss: 13.9090\n",
            "Epoch 10/30\n",
            "3/3 [==============================] - 0s 135ms/step - loss: 0.0802 - val_loss: 10.0395\n",
            "Epoch 11/30\n",
            "3/3 [==============================] - 0s 138ms/step - loss: 0.0345 - val_loss: 7.8952\n",
            "Epoch 12/30\n",
            "3/3 [==============================] - 0s 152ms/step - loss: 0.1764 - val_loss: 6.8890\n",
            "Epoch 13/30\n",
            "3/3 [==============================] - 0s 135ms/step - loss: 9.1630e-04 - val_loss: 6.4832\n",
            "Epoch 14/30\n",
            "3/3 [==============================] - 0s 155ms/step - loss: 0.0365 - val_loss: 6.1424\n",
            "Epoch 15/30\n",
            "3/3 [==============================] - 0s 137ms/step - loss: 0.0012 - val_loss: 5.6987\n",
            "Epoch 16/30\n",
            "3/3 [==============================] - 0s 137ms/step - loss: 0.0292 - val_loss: 5.3173\n",
            "Epoch 17/30\n",
            "3/3 [==============================] - 0s 135ms/step - loss: 0.0333 - val_loss: 4.9978\n",
            "Epoch 18/30\n",
            "3/3 [==============================] - 0s 157ms/step - loss: 0.2335 - val_loss: 5.3155\n",
            "Epoch 19/30\n",
            "3/3 [==============================] - 0s 134ms/step - loss: 1.5485e-04 - val_loss: 5.7649\n",
            "Epoch 20/30\n",
            "3/3 [==============================] - 0s 135ms/step - loss: 0.0427 - val_loss: 5.9727\n",
            "Epoch 21/30\n",
            "3/3 [==============================] - 0s 135ms/step - loss: 3.7612e-04 - val_loss: 5.9312\n",
            "Epoch 22/30\n",
            "3/3 [==============================] - 0s 139ms/step - loss: 1.3048e-06 - val_loss: 5.8561\n",
            "Epoch 23/30\n",
            "3/3 [==============================] - 0s 134ms/step - loss: 0.0049 - val_loss: 5.7224\n",
            "Epoch 24/30\n",
            "3/3 [==============================] - 0s 140ms/step - loss: 0.4404 - val_loss: 5.4000\n",
            "Epoch 25/30\n",
            "3/3 [==============================] - 0s 137ms/step - loss: 0.1270 - val_loss: 5.1296\n",
            "Epoch 26/30\n",
            "3/3 [==============================] - 0s 134ms/step - loss: 0.0016 - val_loss: 4.9630\n",
            "Epoch 27/30\n",
            "3/3 [==============================] - 0s 137ms/step - loss: 2.5279e-06 - val_loss: 4.8284\n",
            "Epoch 28/30\n",
            "3/3 [==============================] - 0s 138ms/step - loss: 0.0657 - val_loss: 4.5931\n",
            "Epoch 29/30\n",
            "3/3 [==============================] - 0s 137ms/step - loss: 1.1780e-05 - val_loss: 4.3993\n",
            "Epoch 30/30\n",
            "3/3 [==============================] - 0s 137ms/step - loss: 0.0248 - val_loss: 4.2731\n"
          ],
          "name": "stdout"
        }
      ]
    },
    {
      "cell_type": "code",
      "metadata": {
        "colab": {
          "base_uri": "https://localhost:8080/",
          "height": 295
        },
        "id": "1tbftwU8Ywgt",
        "outputId": "631c84fd-2fbd-439a-aa5e-3015d57c669e"
      },
      "source": [
        "import matplotlib.pyplot as plt \n",
        "plt.plot(history.history['loss'])\n",
        "plt.plot(history.history['val_loss'])\n",
        "plt.title('Model loss')\n",
        "plt.ylabel('loss')\n",
        "plt.xlabel('Epoch')\n",
        "plt.show()"
      ],
      "execution_count": 36,
      "outputs": [
        {
          "output_type": "display_data",
          "data": {
            "image/png": "[encoded data removed]",
            "text/plain": [
              "<Figure size 432x288 with 1 Axes>"
            ]
          },
          "metadata": {
            "needs_background": "light"
          }
        }
      ]
    },
    {
      "cell_type": "code",
      "metadata": {
        "id": "P6h-su7icBlH"
      },
      "source": [
        "\"\"\"\n",
        "from matplotlib.pyplot import imshow\n",
        "img=Image.open(r,'/content/y10')\n",
        "x\n"
      ],
      "execution_count": null,
      "outputs": []
    }
  ]
}