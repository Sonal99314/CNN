{
  "nbformat": 4,
  "nbformat_minor": 0,
  "metadata": {
    "colab": {
      "name": "inceptionv3.ipynb",
      "provenance": [],
      "collapsed_sections": []
    },
    "kernelspec": {
      "name": "python3",
      "display_name": "Python 3"
    },
    "language_info": {
      "name": "python"
    },
    "accelerator": "GPU"
  },
  "cells": [
    {
      "cell_type": "code",
      "metadata": {
        "colab": {
          "base_uri": "https://localhost:8080/"
        },
        "id": "kVw62tDkrmyg",
        "outputId": "e0254431-df90-4c81-806b-7fc45649ba06"
      },
      "source": [
        "import os\n",
        "os.environ['KAGGLE_USERNAME'] = \"sonalsingh99314\" # username from the json file\n",
        "os.environ['KAGGLE_KEY'] = \"45fbddeeb915a88e4d938ae2fc593b60\" # Provide your key from the json file\n",
        "!kaggle competitions download -c dogs-vs-cats # api copied from kaggle"
      ],
      "execution_count": null,
      "outputs": [
        {
          "output_type": "stream",
          "text": [
            "Warning: Looks like you're using an outdated API Version, please consider updating (server 1.5.12 / client 1.5.4)\n",
            "Downloading train.zip to /content\n",
            " 96% 522M/543M [00:03<00:00, 227MB/s]\n",
            "100% 543M/543M [00:03<00:00, 161MB/s]\n",
            "Downloading test1.zip to /content\n",
            " 99% 269M/271M [00:02<00:00, 102MB/s]\n",
            "100% 271M/271M [00:02<00:00, 109MB/s]\n",
            "Downloading sampleSubmission.csv to /content\n",
            "  0% 0.00/86.8k [00:00<?, ?B/s]\n",
            "100% 86.8k/86.8k [00:00<00:00, 17.5MB/s]\n"
          ],
          "name": "stdout"
        }
      ]
    },
    {
      "cell_type": "code",
      "metadata": {
        "colab": {
          "base_uri": "https://localhost:8080/"
        },
        "id": "o-uYFX1Sr73B",
        "outputId": "278b42f1-408e-4d32-a5e0-c83959ef81f0"
      },
      "source": [
        "from zipfile import ZipFile\n",
        "\n",
        "file_name = \"/content/train.zip\"\n",
        "\n",
        "with ZipFile(file_name, 'r') as zip:\n",
        "  zip.extractall()\n",
        "  print('done')"
      ],
      "execution_count": null,
      "outputs": [
        {
          "output_type": "stream",
          "text": [
            "done\n"
          ],
          "name": "stdout"
        }
      ]
    },
    {
      "cell_type": "code",
      "metadata": {
        "colab": {
          "base_uri": "https://localhost:8080/"
        },
        "id": "KM4OHdakr_5U",
        "outputId": "57b32466-3d90-44e3-92a7-9f9c29dc018f"
      },
      "source": [
        "data_dir_list = os.listdir('/content/train')\n",
        "#print(data_dir_list)\n",
        "\n",
        "path, dirs, files = next(os.walk(\"/content/train\"))\n",
        "file_count = len(files)\n",
        "print(file_count)"
      ],
      "execution_count": null,
      "outputs": [
        {
          "output_type": "stream",
          "text": [
            "25000\n"
          ],
          "name": "stdout"
        }
      ]
    },
    {
      "cell_type": "code",
      "metadata": {
        "id": "J09CZQ9ksFtg"
      },
      "source": [
        "original_dataset_dir = '/content/train'\n",
        "base_dir = '/content/cats_and_dogs_small'\n",
        "os.mkdir(base_dir) #make base directory"
      ],
      "execution_count": null,
      "outputs": []
    },
    {
      "cell_type": "code",
      "metadata": {
        "id": "m7jlxyqKsNVm"
      },
      "source": [
        "#Create directory paths\n",
        "\n",
        "train_dir = os.path.join(base_dir, 'train')\n",
        "os.mkdir(train_dir)\n",
        "\n",
        "validation_dir = os.path.join(base_dir, 'validation')\n",
        "os.mkdir(validation_dir)\n",
        "\n",
        "test_dir = os.path.join(base_dir, 'test')\n",
        "os.mkdir(test_dir)\n",
        "\n",
        "train_cats_dir = os.path.join(train_dir, 'cats')\n",
        "os.mkdir(train_cats_dir)\n",
        "\n",
        "train_dogs_dir = os.path.join(train_dir, 'dogs')\n",
        "os.mkdir(train_dogs_dir)\n",
        "\n",
        "validation_cats_dir = os.path.join(validation_dir, 'cats')\n",
        "os.mkdir(validation_cats_dir)\n",
        "\n",
        "validation_dogs_dir = os.path.join(validation_dir, 'dogs')\n",
        "os.mkdir(validation_dogs_dir)\n",
        "\n",
        "test_cats_dir = os.path.join(test_dir, 'cats')\n",
        "os.mkdir(test_cats_dir)\n",
        "\n",
        "test_dogs_dir = os.path.join(test_dir, 'dogs')\n",
        "os.mkdir(test_dogs_dir)"
      ],
      "execution_count": null,
      "outputs": []
    },
    {
      "cell_type": "code",
      "metadata": {
        "id": "16_xThcvsTCw"
      },
      "source": [
        "import shutil\n",
        "fnames=['cat.{}.jpg'.format(i) for i in range(1000)]\n",
        "for fname in fnames:\n",
        "  src=os.path.join(original_dataset_dir,fname)\n",
        "  dst=os.path.join(train_cats_dir,fname)\n",
        "  #print(src,dst)\n",
        "  shutil.copyfile(src,dst)\n",
        "fnames=['cat.{}.jpg'.format(i) for i in range(1000,1500)]\n",
        "for fname in fnames:\n",
        "  src=os.path.join(original_dataset_dir,fname)\n",
        "  dst=os.path.join(validation_cats_dir,fname)\n",
        "  #print(src,dst)\n",
        "  shutil.copyfile(src,dst)  \n",
        "fnames=['cat.{}.jpg'.format(i) for i in range(1500,2000)]\n",
        "for fname in fnames:\n",
        "  src=os.path.join(original_dataset_dir,fname)\n",
        "  dst=os.path.join(test_cats_dir,fname)\n",
        "  #print(src,dst)\n",
        "  shutil.copyfile(src,dst)  \n",
        "fnames=['dog.{}.jpg'.format(i) for i in range(1000)]\n",
        "for fname in fnames:\n",
        "  src=os.path.join(original_dataset_dir,fname)\n",
        "  dst=os.path.join(train_dogs_dir,fname)\n",
        "  #print(src,dst)\n",
        "  shutil.copyfile(src,dst) \n",
        "fnames=['dog.{}.jpg'.format(i) for i in range(1000,1500)]\n",
        "for fname in fnames:\n",
        "  src=os.path.join(original_dataset_dir,fname)\n",
        "  dst=os.path.join(validation_dogs_dir,fname)\n",
        "  #print(src,dst)\n",
        "  shutil.copyfile(src,dst)   \n",
        "fnames=['dog.{}.jpg'.format(i) for i in range(1500,2000)]\n",
        "for fname in fnames:\n",
        "  src=os.path.join(original_dataset_dir,fname)\n",
        "  dst=os.path.join(test_dogs_dir,fname)\n",
        "  #print(src,dst)\n",
        "  shutil.copyfile(src,dst)  "
      ],
      "execution_count": null,
      "outputs": []
    },
    {
      "cell_type": "code",
      "metadata": {
        "colab": {
          "base_uri": "https://localhost:8080/"
        },
        "id": "CYWsg5MEsXgG",
        "outputId": "58de3994-5a4a-489d-dc8b-b4250c4a81f9"
      },
      "source": [
        "print('total training cat images:', len(os.listdir(train_cats_dir)))\n",
        "print('total training dog images:', len(os.listdir(train_dogs_dir)))\n",
        "print('total validation cat images:', len(os.listdir(validation_cats_dir)))\n",
        "\n",
        "print('total validation dog images:', len(os.listdir(validation_dogs_dir)))\n",
        "print('total test cat images:', len(os.listdir(test_cats_dir)))\n",
        "print('total test dog images:', len(os.listdir(test_dogs_dir)))"
      ],
      "execution_count": null,
      "outputs": [
        {
          "output_type": "stream",
          "text": [
            "total training cat images: 1000\n",
            "total training dog images: 1000\n",
            "total validation cat images: 500\n",
            "total validation dog images: 500\n",
            "total test cat images: 500\n",
            "total test dog images: 500\n"
          ],
          "name": "stdout"
        }
      ]
    },
    {
      "cell_type": "code",
      "metadata": {
        "id": "_n-2B0V3sZrN"
      },
      "source": [
        "##data augmentation\n",
        "from keras.preprocessing.image import ImageDataGenerator\n",
        "train_datagen = ImageDataGenerator(rescale = 1./255., rotation_range = 40, width_shift_range = 0.2, height_shift_range = 0.2,shear_range = 0.2, zoom_range = 0.2, horizontal_flip = True)\n",
        "\n",
        "test_datagen = ImageDataGenerator( rescale = 1.0/255. )"
      ],
      "execution_count": null,
      "outputs": []
    },
    {
      "cell_type": "code",
      "metadata": {
        "colab": {
          "base_uri": "https://localhost:8080/"
        },
        "id": "SRXBnkFsssha",
        "outputId": "0240fa0f-98c8-4a41-cb7a-68fe50cfa3f6"
      },
      "source": [
        "##training and validation generators\n",
        "train_generator = train_datagen.flow_from_directory(train_dir, batch_size = 20, class_mode = 'binary', target_size = (150, 150))\n",
        "validation_generator = test_datagen.flow_from_directory(validation_dir, batch_size = 20, class_mode = 'binary', target_size = (150, 150))"
      ],
      "execution_count": null,
      "outputs": [
        {
          "output_type": "stream",
          "text": [
            "Found 2000 images belonging to 2 classes.\n",
            "Found 1000 images belonging to 2 classes.\n"
          ],
          "name": "stdout"
        }
      ]
    },
    {
      "cell_type": "code",
      "metadata": {
        "colab": {
          "base_uri": "https://localhost:8080/"
        },
        "id": "uoE3Gnacs0qk",
        "outputId": "8df80f2b-8691-42b7-d530-4efd21eeb8a6"
      },
      "source": [
        "##loading the base model\n",
        "\n",
        "from tensorflow.keras.applications.inception_v3 import InceptionV3\n",
        "base_model = InceptionV3(input_shape = (150, 150, 3), include_top = False, weights = 'imagenet')"
      ],
      "execution_count": null,
      "outputs": [
        {
          "output_type": "stream",
          "text": [
            "Downloading data from https://storage.googleapis.com/tensorflow/keras-applications/inception_v3/inception_v3_weights_tf_dim_ordering_tf_kernels_notop.h5\n",
            "87916544/87910968 [==============================] - 0s 0us/step\n"
          ],
          "name": "stdout"
        }
      ]
    },
    {
      "cell_type": "code",
      "metadata": {
        "id": "lTx_Jx3ms77k"
      },
      "source": [
        "## not trainig all the models\n",
        "for layer in base_model.layers:\n",
        "    layer.trainable = False"
      ],
      "execution_count": null,
      "outputs": []
    },
    {
      "cell_type": "code",
      "metadata": {
        "colab": {
          "base_uri": "https://localhost:8080/"
        },
        "id": "NhofsLshs8GO",
        "outputId": "e0ded224-007f-4088-e476-26840e3d9ba8"
      },
      "source": [
        "##compile and fit\n",
        "from tensorflow.keras import layers \n",
        "import tensorflow as tf \n",
        "from tensorflow.keras.optimizers import RMSprop\n",
        "\n",
        "x = layers.Flatten()(base_model.output)\n",
        "x = layers.Dense(1024, activation='relu')(x)\n",
        "x = layers.Dropout(0.2)(x)\n",
        "x = layers.Dense(1, activation='sigmoid')(x)\n",
        "\n",
        "model = tf.keras.models.Model(base_model.input, x)\n",
        "\n",
        "model.compile(optimizer = RMSprop(lr=0.0001), loss = 'binary_crossentropy', metrics = ['acc'])"
      ],
      "execution_count": null,
      "outputs": [
        {
          "output_type": "stream",
          "text": [
            "/usr/local/lib/python3.7/dist-packages/tensorflow/python/keras/optimizer_v2/optimizer_v2.py:375: UserWarning: The `lr` argument is deprecated, use `learning_rate` instead.\n",
            "  \"The `lr` argument is deprecated, use `learning_rate` instead.\")\n"
          ],
          "name": "stderr"
        }
      ]
    },
    {
      "cell_type": "code",
      "metadata": {
        "colab": {
          "base_uri": "https://localhost:8080/"
        },
        "id": "eiqkGGQPtPJR",
        "outputId": "c5795b96-354d-44fe-ad00-769cc8dbfaad"
      },
      "source": [
        "inc_history = model.fit_generator(train_generator, validation_data = validation_generator, steps_per_epoch = 100, epochs = 10)\n"
      ],
      "execution_count": null,
      "outputs": [
        {
          "output_type": "stream",
          "text": [
            "/usr/local/lib/python3.7/dist-packages/tensorflow/python/keras/engine/training.py:1940: UserWarning: `Model.fit_generator` is deprecated and will be removed in a future version. Please use `Model.fit`, which supports generators.\n",
            "  warnings.warn('`Model.fit_generator` is deprecated and '\n"
          ],
          "name": "stderr"
        },
        {
          "output_type": "stream",
          "text": [
            "Epoch 1/10\n",
            "100/100 [==============================] - 54s 201ms/step - loss: 1.2006 - acc: 0.8365 - val_loss: 0.1309 - val_acc: 0.9530\n",
            "Epoch 2/10\n",
            "100/100 [==============================] - 18s 184ms/step - loss: 0.3965 - acc: 0.8860 - val_loss: 0.2349 - val_acc: 0.9430\n",
            "Epoch 3/10\n",
            "100/100 [==============================] - 19s 194ms/step - loss: 0.3209 - acc: 0.9065 - val_loss: 0.1338 - val_acc: 0.9650\n",
            "Epoch 4/10\n",
            "100/100 [==============================] - 20s 195ms/step - loss: 0.3509 - acc: 0.8935 - val_loss: 0.1996 - val_acc: 0.9550\n",
            "Epoch 5/10\n",
            "100/100 [==============================] - 19s 186ms/step - loss: 0.2796 - acc: 0.9170 - val_loss: 0.2170 - val_acc: 0.9590\n",
            "Epoch 6/10\n",
            "100/100 [==============================] - 19s 188ms/step - loss: 0.3307 - acc: 0.9145 - val_loss: 0.3087 - val_acc: 0.9470\n",
            "Epoch 7/10\n",
            "100/100 [==============================] - 20s 201ms/step - loss: 0.3116 - acc: 0.9175 - val_loss: 0.1870 - val_acc: 0.9620\n",
            "Epoch 8/10\n",
            "100/100 [==============================] - 19s 188ms/step - loss: 0.3192 - acc: 0.9170 - val_loss: 0.1623 - val_acc: 0.9670\n",
            "Epoch 9/10\n",
            "100/100 [==============================] - 18s 184ms/step - loss: 0.2722 - acc: 0.9255 - val_loss: 0.1932 - val_acc: 0.9630\n",
            "Epoch 10/10\n",
            "100/100 [==============================] - 19s 194ms/step - loss: 0.2915 - acc: 0.9200 - val_loss: 0.2005 - val_acc: 0.9610\n"
          ],
          "name": "stdout"
        }
      ]
    }
  ]
}